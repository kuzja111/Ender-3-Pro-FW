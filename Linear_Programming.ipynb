{
  "nbformat": 4,
  "nbformat_minor": 0,
  "metadata": {
    "colab": {
      "provenance": [],
      "include_colab_link": true
    },
    "kernelspec": {
      "name": "python3",
      "display_name": "Python 3"
    }
  },
  "cells": [
    {
      "cell_type": "markdown",
      "metadata": {
        "id": "view-in-github",
        "colab_type": "text"
      },
      "source": [
        "<a href=\"https://colab.research.google.com/github/kuzja111/Ender-3-Pro-FW/blob/main/Linear_Programming.ipynb\" target=\"_parent\"><img src=\"https://colab.research.google.com/assets/colab-badge.svg\" alt=\"Open In Colab\"/></a>"
      ]
    },
    {
      "cell_type": "markdown",
      "metadata": {
        "id": "nbMDYod5oHR5"
      },
      "source": [
        "**Linear Programming**\n",
        "\n",
        "Optimization deals with selecting the best option among a number of possible choices that are feasible or don't violate constraints. Python can be used to optimize parameters in a model to best fit data, increase profitability of a potential engineering design, or meet some other type of objective that can be described mathematically with variables and equations.\n",
        "\n",
        "Mathematical optimization problems may include equality constraints (e.g. =), inequality constraints (e.g. <, <=, >, >=), objective functions, algebraic equations, differential equations, continuous variables, discrete or integer variables, etc. A general statement of an optimization problem with nonlinear objectives or constraints is given by the following:\n",
        "\n",
        "```\n",
        "minimize   c x\n",
        "subject to A x = b\n",
        "           A x > b\n",
        "```\n",
        "\n",
        "**Example Application**\n",
        "\n",
        "A simple production planning problem is given by the use of two ingredients A and B that produce products 1 and 2. The available supply is A=30 units and B=44 units. For production it requires:\n",
        "\n",
        "*   3 units of A and 8 units of B to produce Product 1\n",
        "*   6 units of A and 4 units of B to produce Product 2\n",
        "\n",
        "There are at most 5 units of Product 1 and 4 units of Product 2. Product 1 can be sold for 100 and Product 2 can be sold for 125. The objective is to maximize the profit for this production problem.\n",
        "\n",
        "![picture](https://apmonitor.com/pdc/uploads/Main/lp_contour.png)\n",
        "\n",
        "For this problem determine:\n",
        "\n",
        "* A potential feasible solution\n",
        "* Identify the constraints on the contour plot\n",
        "* Mark the set of feasible solutions on the contour plot\n",
        "* Identify the minimum objective feasible solution\n",
        "* Identify the maximum objective feasible solution\n",
        "* Use a solver to find a solution\n",
        "\n",
        "**Install Package**\n",
        "\n",
        "Install *gekko* with *pip* (Python package manager)"
      ]
    },
    {
      "cell_type": "code",
      "metadata": {
        "colab": {
          "base_uri": "https://localhost:8080/"
        },
        "id": "7H7NBhErn4rv",
        "outputId": "b4852048-b2ab-42cf-8a84-3c8cb92ba884"
      },
      "source": [
        "pip install gekko"
      ],
      "execution_count": null,
      "outputs": [
        {
          "output_type": "stream",
          "text": [
            "Collecting gekko\n",
            "\u001b[?25l  Downloading https://files.pythonhosted.org/packages/f9/4b/d5520da5a95fe677d05479a8391327d318fad9f250de791e390c4c39e712/gekko-0.2.8-py3-none-any.whl (10.8MB)\n",
            "\u001b[K     |████████████████████████████████| 10.8MB 4.1MB/s \n",
            "\u001b[?25hCollecting flask-cors\n",
            "  Downloading https://files.pythonhosted.org/packages/69/7f/d0aeaaafb5c3c76c8d2141dbe2d4f6dca5d6c31872d4e5349768c1958abc/Flask_Cors-3.0.9-py2.py3-none-any.whl\n",
            "Requirement already satisfied: flask in /usr/local/lib/python3.6/dist-packages (from gekko) (1.1.2)\n",
            "Requirement already satisfied: numpy>=1.8 in /usr/local/lib/python3.6/dist-packages (from gekko) (1.19.4)\n",
            "Requirement already satisfied: Six in /usr/local/lib/python3.6/dist-packages (from flask-cors->gekko) (1.15.0)\n",
            "Requirement already satisfied: click>=5.1 in /usr/local/lib/python3.6/dist-packages (from flask->gekko) (7.1.2)\n",
            "Requirement already satisfied: Jinja2>=2.10.1 in /usr/local/lib/python3.6/dist-packages (from flask->gekko) (2.11.2)\n",
            "Requirement already satisfied: itsdangerous>=0.24 in /usr/local/lib/python3.6/dist-packages (from flask->gekko) (1.1.0)\n",
            "Requirement already satisfied: Werkzeug>=0.15 in /usr/local/lib/python3.6/dist-packages (from flask->gekko) (1.0.1)\n",
            "Requirement already satisfied: MarkupSafe>=0.23 in /usr/local/lib/python3.6/dist-packages (from Jinja2>=2.10.1->flask->gekko) (1.1.1)\n",
            "Installing collected packages: flask-cors, gekko\n",
            "Successfully installed flask-cors-3.0.9 gekko-0.2.8\n"
          ],
          "name": "stdout"
        }
      ]
    },
    {
      "cell_type": "markdown",
      "metadata": {
        "id": "0jtWP63ppUdM"
      },
      "source": [
        "Solution with Python Gekko. See [more information at APMonitor.com](https://apmonitor.com/pdc/index.php/Main/LinearProgramming)"
      ]
    },
    {
      "cell_type": "code",
      "metadata": {
        "colab": {
          "base_uri": "https://localhost:8080/"
        },
        "id": "sllb73mvnw7g",
        "outputId": "76707ba6-6059-418b-c2dc-a195b91fa2c6"
      },
      "source": [
        "from gekko import GEKKO\n",
        "m = GEKKO()\n",
        "x1 = m.Var(lb=0, ub=5) # Product 1\n",
        "x2 = m.Var(lb=0, ub=4) # Product 2\n",
        "m.Maximize(130*x1+125*x2) # Profit function\n",
        "m.Equation(3*x1+6*x2<=30) # Units of A\n",
        "m.Equation(8*x1+4*x2<=44) # Units of B\n",
        "m.solve(disp=False)\n",
        "p1 = x1.value[0]; p2 = x2.value[0]\n",
        "print ('Product 1 (x1): ' + str(p1))\n",
        "print ('Product 2 (x2): ' + str(p2))\n",
        "print ('Profit        : ' + str(100*p1+125*p2))"
      ],
      "execution_count": null,
      "outputs": [
        {
          "output_type": "stream",
          "text": [
            "Product 1 (x1): 4.0000000005\n",
            "Product 2 (x2): 3.0000000014\n",
            "Profit        : 775.000000225\n"
          ],
          "name": "stdout"
        }
      ]
    }
  ]
}